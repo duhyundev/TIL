{
  "nbformat": 4,
  "nbformat_minor": 0,
  "metadata": {
    "colab": {
      "name": "Kaggle ML and Data Science Survey 2017.ipynb",
      "provenance": [],
      "collapsed_sections": [],
      "mount_file_id": "166Mn1TMz22Blu6u9FMzBscVBBde4-cwT",
      "authorship_tag": "ABX9TyOVv9E6RKgUsSUJ5N+JfKcU",
      "include_colab_link": true
    },
    "kernelspec": {
      "name": "python3",
      "display_name": "Python 3"
    }
  },
  "cells": [
    {
      "cell_type": "markdown",
      "metadata": {
        "id": "view-in-github",
        "colab_type": "text"
      },
      "source": [
        "<a href=\"https://colab.research.google.com/github/duhyundev/TIL/blob/master/Kaggle_ML_and_Data_Science_Survey_2017.ipynb\" target=\"_parent\"><img src=\"https://colab.research.google.com/assets/colab-badge.svg\" alt=\"Open In Colab\"/></a>"
      ]
    },
    {
      "cell_type": "markdown",
      "metadata": {
        "id": "trdoCuHg-G2b",
        "colab_type": "text"
      },
      "source": [
        "#참고 자료\n",
        "- https://www.kaggle.com/rounakbanik/data-science-faq\n",
        "- https://www.kaggle.com/ash316/novice-to-grandmaster\n",
        "- https://programmers.co.kr/learn/courses/21/lessons/937"
      ]
    },
    {
      "cell_type": "markdown",
      "metadata": {
        "id": "AvkAIlCc6Cb4",
        "colab_type": "text"
      },
      "source": [
        "# 케글 사용자 설문조사\n",
        "- 설문기간 : 2017.08.07 ~ 2017.08.25\n",
        "- 평균 응답 시간 : 16.4 (m)\n",
        "- 응답자 : 16,716 (명)\n",
        "- 지역 : 171 (국가,지역) , 50명 미만인 경우 '기타'로 분류\n",
        "\n",
        "## 기타사항\n",
        "- 대부분의 응답자는 이메일 목록, 토론 포럼 및 소셜 미디어 Kaggle 채널을 통해 설문을 알게 됨.\n",
        "- 신고대상자 혹은 취업 상태 질문에 답변하지 않은 응답자 제외\n",
        "- 급여데이터는 일부 통화에 대해서만 받고, 해당 되는 통화에 기준하여 작성\n",
        "- 미국 달러로 급여를 계산할 수 있도록 USD로 환산한 csv 제공\n",
        "- 질문은 선택적\n",
        "- 모든 질문이 모든 응답자에게 보여지는 것은 아님\n",
        "- 취업을 한 사람과 학생을 나누어 다른 질문을 함\n",
        "- 응답자의 신원을 보호하기 위해 주관식과 객관식 파일로 분리\n",
        "- 개관식과 자유 형식 응답을 맞추기 위한 키를 제공하지 않음\n",
        "- 주관식 응답은 같은 행에 나타나는 응답이 반드시 동일한 설문 조사자가 제공하지 않도록 열 단위로 무작위 지정 \n",
        "\n",
        "# 데이터 파일\n",
        "- schema.csv : 설문 스키마, multipleChoiceResponses.csv 및 freeformResponses.csv의 각 열 이름에 해당하는 질문 포함\n",
        "- multipleChoiceResponses.csv : 객관식 및 순위 질문에 대한 응답자의 답변, 각 행이 한 응답자의 답변, 각 행이 한 응답자의 응답\n",
        "- conversionRates.csv : R 패키지 \"quantmod\"에서 2017년 9월 14일에 액세스 한 통화 변환율 (USD)\n",
        "- RespondentTypeREADME.txt : schema.csv 파일의 Asked 열에 응답을 디코딩하는 스키마\n",
        "\n"
      ]
    },
    {
      "cell_type": "code",
      "metadata": {
        "id": "5EdjHKvj-ljs",
        "colab_type": "code",
        "colab": {
          "base_uri": "https://localhost:8080/",
          "height": 34
        },
        "outputId": "94d65d64-f0b5-4a72-fd0e-c16111b80394"
      },
      "source": [
        "pwd"
      ],
      "execution_count": 24,
      "outputs": [
        {
          "output_type": "execute_result",
          "data": {
            "text/plain": [
              "'/content/drive/My Drive/Colab Notebooks'"
            ]
          },
          "metadata": {
            "tags": []
          },
          "execution_count": 24
        }
      ]
    },
    {
      "cell_type": "code",
      "metadata": {
        "id": "EgRMntrb8TTa",
        "colab_type": "code",
        "colab": {}
      },
      "source": [
        "%matplotlib inline\n",
        "\n",
        "import pandas as pd\n",
        "import numpy as np\n",
        "from scipy import stats\n",
        "import matplotlib.pyplot as plt\n",
        "import seaborn as sns"
      ],
      "execution_count": 0,
      "outputs": []
    },
    {
      "cell_type": "code",
      "metadata": {
        "id": "s_tHMnKX9GyP",
        "colab_type": "code",
        "colab": {
          "base_uri": "https://localhost:8080/",
          "height": 34
        },
        "outputId": "26b23bd7-8db3-45f1-df77-6d54e88b00a0"
      },
      "source": [
        "question = pd.read_csv('kaggle-survey-2017/schema.csv')\n",
        "question.shape"
      ],
      "execution_count": 25,
      "outputs": [
        {
          "output_type": "execute_result",
          "data": {
            "text/plain": [
              "(290, 3)"
            ]
          },
          "metadata": {
            "tags": []
          },
          "execution_count": 25
        }
      ]
    },
    {
      "cell_type": "code",
      "metadata": {
        "id": "ce5oO7Ow9Yla",
        "colab_type": "code",
        "colab": {
          "base_uri": "https://localhost:8080/",
          "height": 204
        },
        "outputId": "27bf1a2b-4dd8-4bd6-f8e8-7ef160cc437a"
      },
      "source": [
        "question.head()"
      ],
      "execution_count": 21,
      "outputs": [
        {
          "output_type": "execute_result",
          "data": {
            "text/html": [
              "<div>\n",
              "<style scoped>\n",
              "    .dataframe tbody tr th:only-of-type {\n",
              "        vertical-align: middle;\n",
              "    }\n",
              "\n",
              "    .dataframe tbody tr th {\n",
              "        vertical-align: top;\n",
              "    }\n",
              "\n",
              "    .dataframe thead th {\n",
              "        text-align: right;\n",
              "    }\n",
              "</style>\n",
              "<table border=\"1\" class=\"dataframe\">\n",
              "  <thead>\n",
              "    <tr style=\"text-align: right;\">\n",
              "      <th></th>\n",
              "      <th>Column</th>\n",
              "      <th>Question</th>\n",
              "      <th>Asked</th>\n",
              "    </tr>\n",
              "  </thead>\n",
              "  <tbody>\n",
              "    <tr>\n",
              "      <th>0</th>\n",
              "      <td>GenderSelect</td>\n",
              "      <td>Select your gender identity. - Selected Choice</td>\n",
              "      <td>All</td>\n",
              "    </tr>\n",
              "    <tr>\n",
              "      <th>1</th>\n",
              "      <td>GenderFreeForm</td>\n",
              "      <td>Select your gender identity. - A different ide...</td>\n",
              "      <td>All</td>\n",
              "    </tr>\n",
              "    <tr>\n",
              "      <th>2</th>\n",
              "      <td>Country</td>\n",
              "      <td>Select the country you currently live in.</td>\n",
              "      <td>All</td>\n",
              "    </tr>\n",
              "    <tr>\n",
              "      <th>3</th>\n",
              "      <td>Age</td>\n",
              "      <td>What's your age?</td>\n",
              "      <td>All</td>\n",
              "    </tr>\n",
              "    <tr>\n",
              "      <th>4</th>\n",
              "      <td>EmploymentStatus</td>\n",
              "      <td>What's your current employment status?</td>\n",
              "      <td>All</td>\n",
              "    </tr>\n",
              "  </tbody>\n",
              "</table>\n",
              "</div>"
            ],
            "text/plain": [
              "             Column                                           Question Asked\n",
              "0      GenderSelect     Select your gender identity. - Selected Choice   All\n",
              "1    GenderFreeForm  Select your gender identity. - A different ide...   All\n",
              "2           Country          Select the country you currently live in.   All\n",
              "3               Age                                   What's your age?   All\n",
              "4  EmploymentStatus             What's your current employment status?   All"
            ]
          },
          "metadata": {
            "tags": []
          },
          "execution_count": 21
        }
      ]
    },
    {
      "cell_type": "code",
      "metadata": {
        "id": "dBB7pmYk9-o-",
        "colab_type": "code",
        "colab": {}
      },
      "source": [
        ""
      ],
      "execution_count": 0,
      "outputs": []
    }
  ]
}